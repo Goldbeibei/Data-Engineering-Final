{
  "nbformat": 4,
  "nbformat_minor": 0,
  "metadata": {
    "colab": {
      "provenance": []
    },
    "kernelspec": {
      "name": "python3",
      "display_name": "Python 3"
    },
    "language_info": {
      "name": "python"
    }
  },
  "cells": [
    {
      "cell_type": "markdown",
      "source": [
        "# PChome和momo比價程式"
      ],
      "metadata": {
        "id": "ASD8IIMIOswi"
      }
    },
    {
      "cell_type": "markdown",
      "source": [
        "引入模組"
      ],
      "metadata": {
        "id": "A45ytl9GO4n1"
      }
    },
    {
      "cell_type": "code",
      "source": [
        "import urllib.parse                         #解析URL\n",
        "import sys\n",
        "import json\n",
        "import requests\n",
        "from bs4 import BeautifulSoup\n",
        "import lxml\n",
        "import pandas as pd"
      ],
      "metadata": {
        "id": "wFUIYG_CO2jH"
      },
      "execution_count": 1,
      "outputs": []
    },
    {
      "cell_type": "markdown",
      "source": [
        "關鍵字的空格處理"
      ],
      "metadata": {
        "id": "-QM1nSx4PN59"
      }
    },
    {
      "cell_type": "code",
      "source": [
        "key=\"計算機\"                              #輸入查詢物品\n",
        "key2 = key.split(' ')                       \n",
        "key2_length = len(key2)\n",
        "\n",
        "if key2_length > 0:\n",
        "    key = urllib.parse.quote(key)           # url encode"
      ],
      "metadata": {
        "id": "YM2FRx5gPbn-"
      },
      "execution_count": 2,
      "outputs": []
    },
    {
      "cell_type": "markdown",
      "source": [
        "PChome"
      ],
      "metadata": {
        "id": "vqD5_LZPPfy6"
      }
    },
    {
      "cell_type": "code",
      "source": [
        "def get_prods(key,total_vs):\n",
        "    \n",
        "    #取的URL\n",
        "    headers = {\n",
        "        'user-agent': 'Mozilla/5.0 (Macintosh; Intel Mac OS X    10_12_3) AppleWebKit/537.36 (KHTML, like Gecko) Chrome/101.0.4951.64 Safari/537.36'\n",
        "    }\n",
        "    url = \"https://ecshweb.pchome.com.tw/search/v3.3/all/results?q=\" + \\\n",
        "        key+\"&page=1&sort=sale/dc\"\n",
        "\n",
        "    # 靜態爬取\n",
        "    res = requests.get(url, headers=headers)\n",
        "    soup = BeautifulSoup(res.text, 'lxml')\n",
        "    content = soup.find('p').text\n",
        "    content2 = eval(content)                     # 把字串型list轉成list\n",
        "    length = len(content2)\n",
        "\n",
        "    # 沒有資料的話就會退出\n",
        "    if length == 0:\n",
        "        return [\"沒有此商品\"]\n",
        "\n",
        "    # 整理資料拿出金額最小的 \n",
        "    df = pd.DataFrame(content2['prods'][0:length])              #取出f全部的資料\n",
        "    name_t=df['name'].to_dict()                                 #把商品名稱用字典形式儲存\n",
        "    price_t=df['price'].to_dict()                               #把金額名稱用字典形式儲存\n",
        "    price_number=0\n",
        "    for count in range(length):\n",
        "        if int(price_t[price_number])>int(price_t[count]):      #取得最小金額商品的編號\n",
        "            price_number=count \n",
        "        if total_vs:                                            #開啟所有查詢結果的資料\n",
        "            if count==0:\n",
        "                print(\"PChome的所有\",key2,\"的商品:\")\n",
        "            print(\"name:\",name_t[count],\"price:\",price_t[count])\n",
        "            if count==length-1:\n",
        "                print(\"\\n\\n\") \n",
        "\n",
        "    # 放商品名稱和和價格\n",
        "    result = {\n",
        "        \"平台\": \"PCHOME\",\n",
        "        \"商品名稱\": name_t[price_number],\n",
        "        \"價格\": int(price_t[price_number])\n",
        "    }\n",
        "    return result"
      ],
      "metadata": {
        "id": "VNxOAFE7PmnX"
      },
      "execution_count": 3,
      "outputs": []
    },
    {
      "cell_type": "markdown",
      "source": [
        "momo"
      ],
      "metadata": {
        "id": "013tLmn0Plpc"
      }
    },
    {
      "cell_type": "code",
      "source": [
        "def get_prods2(key,total_vs):\n",
        "\n",
        "    #取的URL\n",
        "    headers = {\n",
        "    'user-agent': 'Mozilla/5.0 (Macintosh; Intel Mac OS X 10_12_3) AppleWebKit/537.36 (KHTML, like Gecko) Chrome/101.0.4951.64 Safari/537.36'\n",
        "    }\n",
        "    url = \"https://m.momoshop.com.tw/search.momo?_advFirst=N&_advCp=N&curPage=1&searchType=&cateLevel=-1&ent=k&searchKeyword=\" + \\\n",
        "        key+\"&_advThreeHours=N&_isFuzzy=0&_imgSH=fourCardType\"\n",
        "\n",
        "\n",
        "    # 靜態爬取\n",
        "    result = []\n",
        "    number=0\n",
        "    res = requests.get(url, headers=headers)\n",
        "    soup = BeautifulSoup(res.text, 'lxml')\n",
        "    content = soup.find_all('ul')                                   # 商品都在裡面\n",
        "    for row in content:                                     \n",
        "        if row.find('div', class_='prdInfoWrap'):\n",
        "            result_temp = {}\n",
        "            prod = row.find_all('div', class_='prdInfoWrap')\n",
        "            for row2 in prod:                                       #取得每筆商品的資料\n",
        "                prdName = row2.find('h3').text                      # 商品一筆一筆取出\n",
        "                price = row2.find('b', class_='price').text         # 金額一筆一筆取出    \n",
        "                result_temp = {                                     #把商品和金額匯集成字典形式\n",
        "                    \"name\": prdName,\n",
        "                    \"price\": price,\n",
        "                }\n",
        "                result.append(result_temp)                          \n",
        "\n",
        "    length = len(result)\n",
        "    # 沒有資料的話就會退出\n",
        "    if length == 0:\n",
        "        return [\"沒有此商品\"]\n",
        "    \n",
        "    # 整理資料拿出金額最小的\n",
        "    price_number=0\n",
        "    for count in range(length):\n",
        "        if int(result[price_number][\"price\"])>int(result[count][\"price\"]):                       #取得最小金額商品的編號\n",
        "            price_number=count\n",
        "        if total_vs:\n",
        "            if count==0:\n",
        "                print(\"momo的所有\",key2,\"的商品:\")                                                                    #開啟所有查詢結果的資料\n",
        "            print(\"name:\",'{:<80}'.format(result[count][\"name\"]),\"price:\", result[count][\"price\"])\n",
        "        if count==length-1:\n",
        "                print(\"\\n\\n\")      \n",
        "    # 放商品名稱和和價格\n",
        "    finish_result = {\n",
        "        \"平台\": \"MOMO\",\n",
        "        \"商品名稱\": result[price_number][\"name\"],\n",
        "        \"價格\": int(result[price_number][\"price\"])\n",
        "    }\n",
        "    return finish_result"
      ],
      "metadata": {
        "id": "KjMEMf9MPuxk"
      },
      "execution_count": 4,
      "outputs": []
    },
    {
      "cell_type": "markdown",
      "source": [
        "蝦皮(因為我無法取得蝦皮API的授權,所以先暫時擱置)"
      ],
      "metadata": {
        "id": "tfYuvuhoQDCN"
      }
    },
    {
      "cell_type": "code",
      "source": [
        "import requests\n",
        "from bs4 import BeautifulSoup\n",
        "import lxml\n",
        "import pandas as pd\n",
        "import json\n",
        "def get_prods1(key):\n",
        "    headers = {\n",
        "        'user-agent': 'Mozilla/5.0 (Macintosh; Intel Mac OS X 10_12_3) AppleWebKit/537.36 (KHTML, like Gecko) Chrome/101.0.4951.64 Safari/537.36'\n",
        "    }\n",
        "    url = \"https://partner.shopeemobile.com/api/v2/order/get_order_list?access_token=access_token&cursor=%22%22&order_status=READY_TO_SHIP&page_size=20&partner_id=partner_id&response_optional_fields=order_status&shop_id=shop_id&sign=sign&time_from=1607235072&time_range_field=create_time&time_to=1608271872&timestamp=timestamp\"+ \\\n",
        "    key +\"&limit=10&newest=0&order=asc&page_type=search&scenario=PAGE_GLOBAL_SEARCH&version=2\"\n",
        "\n",
        "    # 靜態爬取\n",
        "    result = []\n",
        "    res = requests.get(url, headers=headers)\n",
        "    soup = BeautifulSoup(res.text, 'lxml')\n",
        "    content = soup.find('p').text  # 商品都在裡面\n",
        "    content2 = json.loads(content)\n",
        "    return content2\n",
        "    length = len(content2['items'])\n",
        "    if length == 0:\n",
        "        return [\"沒有此商品\"]\n",
        "\n",
        "    # ==============整理爬下來的資料 start===========\n",
        "    result = []\n",
        "    for row in content2['items']:\n",
        "        item_name = row['item_basic']['name']            # 商品名子\n",
        "        item_price = row['item_basic']['price']          # 商品直購價\n",
        "        item_price_min = row['item_basic']['price_min']  # 商品最低價格\n",
        "        item_price_max = row['item_basic']['price_max']  # 商品最高價格\n",
        "\n",
        "        x = 0\n",
        "        for d in key2:\n",
        "            if d in item_name:\n",
        "                x += 1\n",
        "\n",
        "        if x == key2_length:\n",
        "            result.append({\n",
        "                \"name\": item_name,\n",
        "                \"price\": item_price,\n",
        "                \"price_min\": item_price_min,\n",
        "                \"price_max\": item_price_max,\n",
        "            })\n",
        "    # ==============整理爬下來的資料 end===========\n",
        "    if len(result)==0:\n",
        "        return [\"沒有此商品\"]\n",
        "    \n",
        "    # ===========找出最低價格的key值 start===========\n",
        "    df = pd.DataFrame(result)\n",
        "    min_price = df['price'].min()\n",
        "    for key, value in df['price'].items():\n",
        "        if value == min_price:\n",
        "            min_key = key\n",
        "            break\n",
        "    # ===========找出最低價格的key值 end============\n",
        "\n",
        "    # ===========整理價格 start=====================\n",
        "    price = min_price/100000\n",
        "    # ===========整理價格 end=======================\n",
        "\n",
        "    finish_result = {\n",
        "        \"平台\": \"SHOPEE\",\n",
        "        \"商品名稱\": df['name'][min_key],\n",
        "        \"價格\": int(price)\n",
        "    }\n",
        "    return finish_result "
      ],
      "metadata": {
        "id": "syHhzF97PyVU"
      },
      "execution_count": 5,
      "outputs": []
    },
    {
      "cell_type": "markdown",
      "source": [
        "主程式"
      ],
      "metadata": {
        "id": "SqjOVAM1QNKJ"
      }
    },
    {
      "cell_type": "code",
      "source": [
        "\n",
        "total_vs=True                                  #是否開啟所有查詢結果的資料\n",
        "finsih_result = []\n",
        "\n",
        "# =======爬momo的商品 ===============\n",
        "result_momo = get_prods(key,total_vs)\n",
        "if len(result_momo) > 1:\n",
        "    finsih_result.append(result_momo)\n",
        "\n",
        "\n",
        "# =======爬pchome的商品 start=============\n",
        "result_pchome = get_prods2(key,total_vs)\n",
        "if len(result_pchome) > 1:\n",
        "    finsih_result.append(result_pchome)\n",
        "\n",
        "\n",
        "# =======爬shopee的商品 start=============\n",
        "\"\"\"\n",
        "result_shopee = get_prods(key)\n",
        "if len(result_shopee) > 1:\n",
        "    finsih_result.append(result_shopee)\n",
        "\"\"\"\n",
        "\n",
        "\n",
        "df = pd.DataFrame(finsih_result)\n",
        "finish = df.sort_values(by=['價格'])  # 價格小到大\n",
        "print(\"貨比三家的結果:\")\n",
        "print(finish)\n",
        "finish.to_csv(\"比價.csv\",encoding=\"UTF-8-Sig\") #產生Excel檔"
      ],
      "metadata": {
        "colab": {
          "base_uri": "https://localhost:8080/"
        },
        "id": "bcNCGxA2QPuu",
        "outputId": "07826458-754b-4e13-cc74-4cc9d10c50fc"
      },
      "execution_count": 6,
      "outputs": [
        {
          "output_type": "stream",
          "name": "stdout",
          "text": [
            "PChome的所有 ['計算機'] 的商品:\n",
            "name: 【CASIO 】12位元繽紛馬卡龍色系列便利型計算機-MS-20UC- price: 399\n",
            "name: CASIO 12位數仰角桌上型計算機DX-120ST price: 538\n",
            "name: KINYO桌上型計算機KPE587 price: 149\n",
            "name: CASIO 12位數雙電源設計計算機粉嫩新色-粉嫩藍紫(MX-12B-LB) price: 319\n",
            "name: 卡西歐CASIO桌上型計算機\\/12位元\\/MX-12B price: 339\n",
            "name: 卡西歐CASIO 商用計算機AX-120ST\\/12位元 price: 699\n",
            "name: 卡西歐CASIO桌上型計算機\\/12位元\\/AX-120B price: 464\n",
            "name: E-MORE 商用計算機 JS-120GT(國家考試機) price: 374\n",
            "name: CASIO 12 位元仰角桌上型計算機 ( AX-120ST ) price: 500\n",
            "name: E-MORE國家考試專用型計算機 MS-112L\\/12位元(混色出貨) price: 310\n",
            "\n",
            "\n",
            "\n",
            "momo的所有 ['計算機'] 的商品:\n",
            "name: 【CASIO卡西歐】12位數雙電源可掀式商用計算機(AX-120ST)                                              price: 499\n",
            "name: 【CASIO 卡西歐】12位數馬卡龍繽紛計算機/牛奶白(MS-20UC-WE)                                          price: 399\n",
            "name: 【InfoThink】台灣花磚系列商品(計算機)                                                         price: 299\n",
            "name: 【CASIO卡西歐】12位數雙電源商用計算機(MX-120B)                                                  price: 379\n",
            "name: 【卡西歐CASIO】國家考試桌上型計算機/8位元/MW-8V                                                   price: 285\n",
            "name: 【CASIO 卡西歐】12位數時尚系列七色計算機(JW-200SC)                                               price: 685\n",
            "name: 【MUJI 無印良品】計算機/12位                                                               price: 315\n",
            "name: 【CASIO 卡西歐】12位數馬卡龍繽紛十色計算機(MS-20UC)                                               price: 399\n",
            "name: 【CASIO 卡西歐】12位數時尚系列七色計算機/櫻花粉(JW-200SC-PK)                                        price: 685\n",
            "name: 【CASIO 卡西歐】12位數時尚系列七色計算機/雪花白(JW-200SC-WE)                                        price: 685\n",
            "name: 【尊能】12位元寬螢幕女神計算機 機械鍵計算機(計算機 計算器 財務 會計 禮物 商務 辦公)                                  price: 339\n",
            "name: 【卡西歐CASIO】國家考試計算機/12位元/SX-320P                                                   price: 280\n",
            "name: 【CASIO 卡西歐】12位數雙電源頂級商用計算機(DS-2B)                                                 price: 1320\n",
            "name: 【CASIO 卡西歐】10+2位工程用計算機(FX-991ES PLUS-2)                                          price: 830\n",
            "name: 【CASIO 卡西歐】12位數國考型工程用計算機(FX-82SOLARII)                                           price: 420\n",
            "name: 【LOCOCK樂可可】復古機械按鍵計算機(復古 療癒小物 簡約生活 機械按鍵  青軸)                                      price: 629\n",
            "name: 【CASIO 卡西歐】14位數雙電源頂級商用計算機/櫻花限定版(JS-40B-PK)                                       price: 1499\n",
            "name: 【CASIO 卡西歐】12位數時尚系列七色計算機/午夜藍(JW-200SC-NY)                                        price: 685\n",
            "name: 【CASIO 卡西歐】12位數時尚系列七色計算機/丹寧藍(JW-200SC-BU)                                        price: 685\n",
            "name: 【CASIO 卡西歐】8位數國考型計算機(MW-8V-BK)                                                   price: 289\n",
            "\n",
            "\n",
            "\n",
            "貨比三家的結果:\n",
            "       平台                            商品名稱   價格\n",
            "0  PCHOME               KINYO桌上型計算機KPE587  149\n",
            "1    MOMO  【卡西歐CASIO】國家考試計算機/12位元/SX-320P  280\n"
          ]
        }
      ]
    }
  ]
}